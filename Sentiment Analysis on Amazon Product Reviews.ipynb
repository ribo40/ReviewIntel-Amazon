{
 "cells": [
  {
   "cell_type": "markdown",
   "id": "4651dd8e",
   "metadata": {},
   "source": [
    "# Sentiment Analysis on Amazon Product Reviews"
   ]
  },
  {
   "cell_type": "markdown",
   "id": "abaf52db",
   "metadata": {},
   "source": [
    "## 1. Dataset Overview\n",
    "- **Dataset Description**:\n",
    "  - Analyze an Amazon product review dataset containing textual reviews (`reviewText`) and corresponding sentiment labels (`Positive`).\n",
    "  - Sentiment is binary: 1 for positive, 0 for negative.\n",
    "- **Objective**:\n",
    "  - Predict the sentiment of a product review based on its textual content.\n"
   ]
  },
  {
   "cell_type": "code",
   "execution_count": 1,
   "id": "aec67bef",
   "metadata": {},
   "outputs": [],
   "source": [
    "import pandas as pd\n",
    "import numpy as np\n",
    "import string\n",
    "import seaborn as sns\n",
    "import matplotlib.pyplot as plt\n",
    "from nltk.corpus import stopwords\n",
    "from nltk.tokenize import word_tokenize\n",
    "from nltk.stem import WordNetLemmatizer\n",
    "from sklearn.model_selection import train_test_split\n",
    "from sklearn.feature_extraction.text import TfidfVectorizer\n",
    "from sklearn.linear_model import LogisticRegression\n",
    "from sklearn.ensemble import RandomForestClassifier\n",
    "from sklearn.svm import LinearSVC\n",
    "from sklearn.naive_bayes import MultinomialNB\n",
    "from sklearn.metrics import accuracy_score, classification_report, confusion_matrix\n",
    "from sklearn.model_selection import RandomizedSearchCV\n",
    "\n",
    "import warnings\n",
    "warnings.filterwarnings('ignore')"
   ]
  },
  {
   "cell_type": "code",
   "execution_count": 2,
   "id": "c92730c6",
   "metadata": {},
   "outputs": [
    {
     "data": {
      "text/html": [
       "<div>\n",
       "<style scoped>\n",
       "    .dataframe tbody tr th:only-of-type {\n",
       "        vertical-align: middle;\n",
       "    }\n",
       "\n",
       "    .dataframe tbody tr th {\n",
       "        vertical-align: top;\n",
       "    }\n",
       "\n",
       "    .dataframe thead th {\n",
       "        text-align: right;\n",
       "    }\n",
       "</style>\n",
       "<table border=\"1\" class=\"dataframe\">\n",
       "  <thead>\n",
       "    <tr style=\"text-align: right;\">\n",
       "      <th></th>\n",
       "      <th>reviewText</th>\n",
       "      <th>Positive</th>\n",
       "    </tr>\n",
       "  </thead>\n",
       "  <tbody>\n",
       "    <tr>\n",
       "      <th>0</th>\n",
       "      <td>This is a one of the best apps acording to a b...</td>\n",
       "      <td>1</td>\n",
       "    </tr>\n",
       "    <tr>\n",
       "      <th>1</th>\n",
       "      <td>This is a pretty good version of the game for ...</td>\n",
       "      <td>1</td>\n",
       "    </tr>\n",
       "    <tr>\n",
       "      <th>2</th>\n",
       "      <td>this is a really cool game. there are a bunch ...</td>\n",
       "      <td>1</td>\n",
       "    </tr>\n",
       "    <tr>\n",
       "      <th>3</th>\n",
       "      <td>This is a silly game and can be frustrating, b...</td>\n",
       "      <td>1</td>\n",
       "    </tr>\n",
       "    <tr>\n",
       "      <th>4</th>\n",
       "      <td>This is a terrific game on any pad. Hrs of fun...</td>\n",
       "      <td>1</td>\n",
       "    </tr>\n",
       "  </tbody>\n",
       "</table>\n",
       "</div>"
      ],
      "text/plain": [
       "                                          reviewText  Positive\n",
       "0  This is a one of the best apps acording to a b...         1\n",
       "1  This is a pretty good version of the game for ...         1\n",
       "2  this is a really cool game. there are a bunch ...         1\n",
       "3  This is a silly game and can be frustrating, b...         1\n",
       "4  This is a terrific game on any pad. Hrs of fun...         1"
      ]
     },
     "execution_count": 2,
     "metadata": {},
     "output_type": "execute_result"
    }
   ],
   "source": [
    "url = 'https://raw.githubusercontent.com/rashakil-ds/Public-Datasets/refs/heads/main/amazon.csv'\n",
    "df = pd.read_csv(url)\n",
    "df.head()"
   ]
  },
  {
   "cell_type": "markdown",
   "id": "da27b7a2",
   "metadata": {},
   "source": [
    "## 2. Data Preprocessing\n",
    "- Handle missing values, if any.\n",
    "- Perform text preprocessing on the `reviewText` column:\n",
    "  - Convert text to lowercase.\n",
    "  - Remove stop words, punctuation, and special characters.\n",
    "  - Tokenize and lemmatize text data.\n",
    "- Split the dataset into training and testing sets.\n"
   ]
  },
  {
   "cell_type": "code",
   "execution_count": 3,
   "id": "ce77801c-33d5-4deb-ac67-6fded8040b12",
   "metadata": {},
   "outputs": [
    {
     "data": {
      "text/plain": [
       "reviewText    0\n",
       "Positive      0\n",
       "dtype: int64"
      ]
     },
     "execution_count": 3,
     "metadata": {},
     "output_type": "execute_result"
    }
   ],
   "source": [
    "# Check if any missing values\n",
    "df.isnull().sum()"
   ]
  },
  {
   "cell_type": "code",
   "execution_count": 4,
   "id": "abc3cf85-c1ee-46ac-ad49-dc9dc714f503",
   "metadata": {},
   "outputs": [],
   "source": [
    "stop_words = set(stopwords.words('english'))\n",
    "lemmatizer = WordNetLemmatizer()"
   ]
  },
  {
   "cell_type": "code",
   "execution_count": 5,
   "id": "4175cbc0-5263-4a86-bacf-a504ef64c2b9",
   "metadata": {},
   "outputs": [],
   "source": [
    "def preprocess_text(text):\n",
    "    text = text.lower() \n",
    "    text = ''.join([char for char in text if char not in string.punctuation]) \n",
    "    tokens = word_tokenize(text) \n",
    "    tokens = [lemmatizer.lemmatize(word) for word in tokens if word not in stop_words] \n",
    "    return ' '.join(tokens)\n",
    "\n",
    "df['cleanedText'] = df['reviewText'].apply(preprocess_text)"
   ]
  },
  {
   "cell_type": "code",
   "execution_count": 6,
   "id": "5997535d-e39f-47a4-a969-4b08828230cf",
   "metadata": {},
   "outputs": [],
   "source": [
    "#Train-Test Split\n",
    "X = df['cleanedText']\n",
    "y = df['Positive']\n",
    "X_train, X_test, y_train, y_test = train_test_split(X, y, test_size=0.2, random_state=42)"
   ]
  },
  {
   "cell_type": "code",
   "execution_count": 7,
   "id": "479c39ab-fb4b-422a-a53d-cabc454fc46c",
   "metadata": {},
   "outputs": [],
   "source": [
    "# TF-IDF Vectorization\n",
    "tfidf = TfidfVectorizer(max_features=5000)\n",
    "X_train_tfidf = tfidf.fit_transform(X_train)\n",
    "X_test_tfidf = tfidf.transform(X_test)"
   ]
  },
  {
   "cell_type": "markdown",
   "id": "ec98fa4a",
   "metadata": {},
   "source": [
    "## 3. Model Selection\n",
    "- Choose at least three machine learning models for sentiment classification:\n",
    "  - Statistical Models:\n",
    "    - Logistic Regression\n",
    "    - Random Forest\n",
    "    - Support Vector Machine (SVM)\n",
    "    - Naïve Bayes\n",
    "    - Gradient Boosting (e.g., XGBoost, AdaBoost, CatBoost)\n",
    "  - Neural Models:\n",
    "    - LSTM (Long Short-Term Memory)\n",
    "    - GRUs (Gated Recurrent Units)\n"
   ]
  },
  {
   "cell_type": "code",
   "execution_count": 8,
   "id": "308f30f5-c8f2-46ea-ae5e-133ab29fcc62",
   "metadata": {},
   "outputs": [],
   "source": [
    "# Initialize the Models\n",
    "models = {\n",
    "    \"Logistic Regression\": LogisticRegression(max_iter=1000, random_state=42),\n",
    "    \"Random Forest\": RandomForestClassifier(n_estimators=100, random_state=42),\n",
    "    \"SVM\": LinearSVC(random_state=42),\n",
    "    \"Naïve Bayes\": MultinomialNB(),\n",
    "}"
   ]
  },
  {
   "cell_type": "markdown",
   "id": "24d561e8",
   "metadata": {},
   "source": [
    "## 4. Model Training\n",
    "- Train each selected model on the training dataset.\n",
    "- Utilize vectorization techniques for text data:\n",
    "  - TF-IDF (Term Frequency-Inverse Document Frequency)\n",
    "  - Word embeddings (e.g., Word2Vec, GloVe)\n"
   ]
  },
  {
   "cell_type": "code",
   "execution_count": 9,
   "id": "79e408ce-40f9-4219-b44a-66621f709e84",
   "metadata": {},
   "outputs": [
    {
     "name": "stdout",
     "output_type": "stream",
     "text": [
      "\n",
      "Training Logistic Regression...\n",
      "\n",
      "Training Random Forest...\n",
      "\n",
      "Training SVM...\n",
      "\n",
      "Training Naïve Bayes...\n"
     ]
    }
   ],
   "source": [
    "# Train the models\n",
    "t_models = {}\n",
    "for name, model in models.items():\n",
    "    print(f\"\\nTraining {name}...\")\n",
    "    model.fit(X_train_tfidf, y_train)\n",
    "    t_models[name] = model"
   ]
  },
  {
   "cell_type": "markdown",
   "id": "4c8c8247",
   "metadata": {},
   "source": [
    "## 5. Formal Evaluation\n",
    "- Evaluate the performance of each model on the testing set using the following metrics:\n",
    "  - Accuracy\n",
    "  - Precision\n",
    "  - Recall\n",
    "  - F1 Score\n",
    "  - Confusion Matrix\n"
   ]
  },
  {
   "cell_type": "code",
   "execution_count": 10,
   "id": "558b3211",
   "metadata": {},
   "outputs": [
    {
     "name": "stdout",
     "output_type": "stream",
     "text": [
      "\n",
      "Evaluating Logistic Regression...\n",
      "Logistic Regression - Accuracy: 0.88725\n",
      "              precision    recall  f1-score   support\n",
      "\n",
      "           0       0.84      0.65      0.73       958\n",
      "           1       0.90      0.96      0.93      3042\n",
      "\n",
      "    accuracy                           0.89      4000\n",
      "   macro avg       0.87      0.81      0.83      4000\n",
      "weighted avg       0.88      0.89      0.88      4000\n",
      "\n",
      "\n",
      "Evaluating Random Forest...\n",
      "Random Forest - Accuracy: 0.8695\n",
      "              precision    recall  f1-score   support\n",
      "\n",
      "           0       0.82      0.58      0.68       958\n",
      "           1       0.88      0.96      0.92      3042\n",
      "\n",
      "    accuracy                           0.87      4000\n",
      "   macro avg       0.85      0.77      0.80      4000\n",
      "weighted avg       0.87      0.87      0.86      4000\n",
      "\n",
      "\n",
      "Evaluating SVM...\n",
      "SVM - Accuracy: 0.8825\n",
      "              precision    recall  f1-score   support\n",
      "\n",
      "           0       0.78      0.72      0.74       958\n",
      "           1       0.91      0.93      0.92      3042\n",
      "\n",
      "    accuracy                           0.88      4000\n",
      "   macro avg       0.84      0.83      0.83      4000\n",
      "weighted avg       0.88      0.88      0.88      4000\n",
      "\n",
      "\n",
      "Evaluating Naïve Bayes...\n",
      "Naïve Bayes - Accuracy: 0.852\n",
      "              precision    recall  f1-score   support\n",
      "\n",
      "           0       0.90      0.43      0.58       958\n",
      "           1       0.85      0.98      0.91      3042\n",
      "\n",
      "    accuracy                           0.85      4000\n",
      "   macro avg       0.87      0.71      0.75      4000\n",
      "weighted avg       0.86      0.85      0.83      4000\n",
      "\n"
     ]
    }
   ],
   "source": [
    "# Evaluate the Models\n",
    "results = {}\n",
    "for name, model in t_models.items():\n",
    "    print(f\"\\nEvaluating {name}...\")\n",
    "    y_pred = model.predict(X_test_tfidf) \n",
    "    accuracy = accuracy_score(y_test, y_pred) \n",
    "    report = classification_report(y_test, y_pred, output_dict=True)\n",
    "    results[name] = {\n",
    "        \"accuracy\": accuracy,\n",
    "        \"precision\": report['1']['precision'],\n",
    "        \"recall\": report['1']['recall'],\n",
    "        \"f1_score\": report['1']['f1-score']\n",
    "    }\n",
    "    print(f\"{name} - Accuracy: {accuracy}\")\n",
    "    print(classification_report(y_test, y_pred))"
   ]
  },
  {
   "cell_type": "markdown",
   "id": "fadcca61",
   "metadata": {},
   "source": [
    "## 6. Hyperparameter Tuning\n",
    "- Perform hyperparameter tuning for selected models using:\n",
    "  - Grid Search\n",
    "  - Random Search\n",
    "- Explain the chosen hyperparameters and justify their selection.\n"
   ]
  },
  {
   "cell_type": "code",
   "execution_count": 17,
   "id": "e40cb3a2",
   "metadata": {},
   "outputs": [],
   "source": [
    "# Define hyperparameter grids for each model\n",
    "param_grids = {\n",
    "    \"Logistic Regression\": {\n",
    "        'C': [0.1, 0.5, 1.0, 5.0, 10.0],  \n",
    "        'solver': ['liblinear', 'saga'],\n",
    "        'penalty': ['l1', 'l2'],\n",
    "    },\n",
    "    \"Random Forest\": {\n",
    "        'n_estimators': [50, 100, 200],\n",
    "        'max_depth': [5, 10, 20, None],\n",
    "        'min_samples_split': [2, 5, 10],\n",
    "        'min_samples_leaf': [1, 2, 4],\n",
    "        'bootstrap': [True, False],\n",
    "    },\n",
    "    \"SVM\": {\n",
    "        'C': [0.1, 1.0, 10.0],\n",
    "        'penalty': ['l2'],  \n",
    "        'loss': ['squared_hinge', 'hinge'],  \n",
    "        'max_iter': [1000, 2000],  \n",
    "    },\n",
    "    \"Naïve Bayes\": {\n",
    "        'alpha': [0.1, 0.5, 1.0, 2.0],\n",
    "    }\n",
    "}\n"
   ]
  },
  {
   "cell_type": "code",
   "execution_count": 18,
   "id": "1e531d49-19b1-4e3a-bedb-3bdc34856d69",
   "metadata": {},
   "outputs": [
    {
     "name": "stdout",
     "output_type": "stream",
     "text": [
      "Performing RandomizedSearchCV for Logistic Regression...\n",
      "Fitting 5 folds for each of 10 candidates, totalling 50 fits\n",
      "Performing RandomizedSearchCV for Random Forest...\n",
      "Fitting 5 folds for each of 10 candidates, totalling 50 fits\n",
      "Performing RandomizedSearchCV for SVM...\n",
      "Fitting 5 folds for each of 10 candidates, totalling 50 fits\n",
      "Performing RandomizedSearchCV for Naïve Bayes...\n",
      "Fitting 5 folds for each of 4 candidates, totalling 20 fits\n"
     ]
    }
   ],
   "source": [
    "# Initialize the RandomizedSearchCV result dictionary\n",
    "random_search_results = {}\n",
    "\n",
    "# Perform RandomizedSearchCV for each model\n",
    "for model_name, model in models.items():\n",
    "    print(f\"Performing RandomizedSearchCV for {model_name}...\")\n",
    "    \n",
    "    # Initialize RandomizedSearchCV with the appropriate parameter grid\n",
    "    random_search = RandomizedSearchCV(model, param_distributions=param_grids[model_name], \n",
    "                                       n_iter=10, cv=5, random_state=42, n_jobs=-1, verbose=1)\n",
    "    \n",
    "    # Fit the model\n",
    "    random_search.fit(X_train_tfidf, y_train)\n",
    "    \n",
    "    # Store the best result for each model\n",
    "    random_search_results[model_name] = random_search.best_params_"
   ]
  },
  {
   "cell_type": "code",
   "execution_count": 19,
   "id": "75daf48c-4ecf-411e-80d3-522cc3d595ae",
   "metadata": {},
   "outputs": [
    {
     "name": "stdout",
     "output_type": "stream",
     "text": [
      "\n",
      "Best Hyperparameters for Each Model:\n",
      "Logistic Regression: {'solver': 'saga', 'penalty': 'l2', 'C': 5.0}\n",
      "Random Forest: {'n_estimators': 100, 'min_samples_split': 10, 'min_samples_leaf': 2, 'max_depth': None, 'bootstrap': False}\n",
      "SVM: {'penalty': 'l2', 'max_iter': 2000, 'loss': 'hinge', 'C': 1.0}\n",
      "Naïve Bayes: {'alpha': 0.1}\n"
     ]
    }
   ],
   "source": [
    "# Display the best hyperparameters for each model\n",
    "print(\"\\nBest Hyperparameters for Each Model:\")\n",
    "for model_name, best_params in random_search_results.items():\n",
    "    print(f\"{model_name}: {best_params}\")"
   ]
  },
  {
   "cell_type": "markdown",
   "id": "aa9a658c",
   "metadata": {},
   "source": [
    "## 7. Comparative Analysis\n",
    "- Compare the performance of all models based on evaluation metrics.\n",
    "- Identify strengths and weaknesses of each model (e.g., speed, accuracy, interpretability).\n"
   ]
  },
  {
   "cell_type": "code",
   "execution_count": 20,
   "id": "0885e004",
   "metadata": {},
   "outputs": [
    {
     "name": "stdout",
     "output_type": "stream",
     "text": [
      "                     accuracy  precision    recall  f1_score\n",
      "Logistic Regression   0.88725   0.896784  0.962525  0.928492\n",
      "Random Forest         0.86950   0.878833  0.960881  0.918028\n",
      "SVM                   0.88250   0.912709  0.934911  0.923677\n",
      "Naïve Bayes           0.85200   0.846241  0.984221  0.910030\n"
     ]
    }
   ],
   "source": [
    "res = pd.DataFrame(results).T\n",
    "print(res)"
   ]
  },
  {
   "cell_type": "code",
   "execution_count": 21,
   "id": "d2b3f836-2a2f-4598-9df7-0562155fdbe0",
   "metadata": {},
   "outputs": [
    {
     "data": {
      "image/png": "[encoded data removed]",
      "text/plain": [
       "<Figure size 1200x600 with 1 Axes>"
      ]
     },
     "metadata": {},
     "output_type": "display_data"
    }
   ],
   "source": [
    "# Plot the Performance\n",
    "res.plot(kind='bar', figsize=(12, 6),color=['blue', 'orange', 'green', 'red'])\n",
    "plt.title('Model Performance Comparison')\n",
    "plt.ylabel('Score')\n",
    "plt.xlabel('Models')\n",
    "plt.legend(bbox_to_anchor=(1.05, 1), loc='upper left')\n",
    "plt.tight_layout()\n",
    "plt.show()"
   ]
  },
  {
   "cell_type": "markdown",
   "id": "bf254f52",
   "metadata": {},
   "source": [
    "## 8. Conclusion & Comments\n",
    "- Summarize the findings of the project.\n",
    "- Provide insights into the challenges faced during data preprocessing, model training, and evaluation.\n",
    "- Highlight key lessons learned.\n",
    "- Add clear and concise comments to the code for each step of the project.\n",
    "- Highlight key results, visualizations, and model comparisons.\n"
   ]
  },
  {
   "cell_type": "code",
   "execution_count": null,
   "id": "eecea79f",
   "metadata": {},
   "outputs": [],
   "source": []
  }
 ],
 "metadata": {
  "kernelspec": {
   "display_name": "Python 3 (ipykernel)",
   "language": "python",
   "name": "python3"
  },
  "language_info": {
   "codemirror_mode": {
    "name": "ipython",
    "version": 3
   },
   "file_extension": ".py",
   "mimetype": "text/x-python",
   "name": "python",
   "nbconvert_exporter": "python",
   "pygments_lexer": "ipython3",
   "version": "3.12.4"
  }
 },
 "nbformat": 4,
 "nbformat_minor": 5
}
